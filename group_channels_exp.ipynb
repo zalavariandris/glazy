{
 "cells": [
  {
   "cell_type": "code",
   "execution_count": 1,
   "metadata": {},
   "outputs": [
    {
     "name": "stdout",
     "output_type": "stream",
     "text": [
      "(0, 3) ['red', 'green', 'blue']\n",
      "(3, 7) ['A', 'B', 'G', 'R']\n",
      "(7, 8) ['Z']\n",
      "(8, 11) ['u', 'v', 'w']\n",
      "(11, 13) ['u', 'v']\n",
      "(13, 15) ['x', 'y']\n",
      "(15, 16) ['k']\n",
      "(16, 19) ['B', 'G', 'R']\n"
     ]
    }
   ],
   "source": [
    "def group_by_patterns(statement, patterns):\n",
    "    i=0\n",
    "    groups = []\n",
    "    patterns = sorted(patterns, key=lambda k: -len(k))\n",
    "    \n",
    "    while i<len(statement):\n",
    "        match = None\n",
    "        for pattern in patterns:\n",
    "            begin = i\n",
    "            end = i+len(pattern)\n",
    "            if pattern == statement[begin:end]:\n",
    "                match = (begin, end)\n",
    "                i=end-1\n",
    "                break\n",
    "\n",
    "        if match is not None:\n",
    "            groups.append( match )\n",
    "        else:\n",
    "            groups.append( (i, i+1) )\n",
    "        i+=1\n",
    "    return groups\n",
    "\n",
    "statement = [\"red\", \"green\", \"blue\", \"A\", \"B\", \"G\", \"R\", \"Z\", \"u\", \"v\", \"w\", \"u\", \"v\", \"x\", \"y\", \"k\", \"B\", \"G\", \"R\"]\n",
    "patterns = [\"red\", \"green\", \"blue\"], [\"A\", \"B\", \"G\", \"R\"], [\"B\", \"G\", \"R\"], [\"x\", \"y\"], [\"u\", \"v\"], [\"u\", \"v\", \"w\"]\n",
    "\n",
    "for span in group_by_patterns(statement, patterns):\n",
    "    print(span, statement[span[0]:span[1]])"
   ]
  },
  {
   "cell_type": "code",
   "execution_count": 2,
   "metadata": {},
   "outputs": [
    {
     "name": "stdout",
     "output_type": "stream",
     "text": [
      "<re.Match object; span=(0, 4), match='ABGR'>\n",
      "<re.Match object; span=(5, 7), match='uv'>\n",
      "<re.Match object; span=(7, 9), match='xy'>\n",
      "<re.Match object; span=(10, 13), match='BGR'>\n"
     ]
    },
    {
     "data": {
      "text/plain": [
       "(0, 4)"
      ]
     },
     "execution_count": 2,
     "metadata": {},
     "output_type": "execute_result"
    }
   ],
   "source": [
    "# reference for match span\n",
    "\n",
    "import re\n",
    "statement = \"ABGRZuvxykBGR\"\n",
    "matches = [m for m in re.finditer(r'(ABGR)|(BGR)|(uvw)|(uv)|(xy)', statement)]\n",
    "for match in matches:\n",
    "    print(match)\n",
    "\n",
    "matches[0].span()"
   ]
  },
  {
   "cell_type": "code",
   "execution_count": 3,
   "metadata": {},
   "outputs": [
    {
     "name": "stdout",
     "output_type": "stream",
     "text": [
      "Layer('', A, B, G, R, Z, disparityL.x, disparityL.y, disparityR.x, disparityR.y, forward.left.u, forward.left.v, forward.right.u, forward.right.v, left.A, left.B, left.G, left.R, left.Z, whitebarmask.left.mask, whitebarmask.right.mask)\n",
      "->\n",
      "layers: \n",
      "Layer('', A, B, G, R, Z)\n",
      "Layer('disparityL', x, y)\n",
      "Layer('disparityR', x, y)\n",
      "Layer('forward.left', u, v)\n",
      "Layer('forward.right', u, v)\n",
      "Layer('left', A, B, G, R, Z)\n",
      "Layer('whitebarmask.left', mask)\n",
      "Layer('whitebarmask.right', mask)\n"
     ]
    }
   ],
   "source": [
    "class Layer:\n",
    "    def __init__(self, name):\n",
    "        self.name = name\n",
    "        self.channels = []\n",
    "\n",
    "    def __repr__(self):\n",
    "        return \"Layer('{}', {})\".format(self.name, \", \".join(self.channels))\n",
    "\n",
    "    @staticmethod\n",
    "    def split_channel_id(channel_id):\n",
    "        tags = channel_id.split(\".\")\n",
    "        viewlayer_name = \".\".join(tags[0:-1]) if len(tags)>1 else \"\"\n",
    "        channel_name = tags[-1]\n",
    "        return (viewlayer_name, channel_name)\n",
    "\n",
    "    def group_by_delimiters(self):\n",
    "        sub_layers = []\n",
    "        \n",
    "        for i in range(len(self.channels)):\n",
    "            channel_id = cl[i]\n",
    "            viewlayer, channel = Layer.split_channel_id(channel_id)\n",
    "\n",
    "            if len(sub_layers)==0:\n",
    "                sub_layers.append(Layer(name=viewlayer))\n",
    "\n",
    "            if sub_layers[-1].name == viewlayer:\n",
    "                pass\n",
    "            else:\n",
    "                sub_layers.append(Layer(name=viewlayer))\n",
    "\n",
    "            # print(\" append channel:\", channel)\n",
    "            sub_layers[-1].channels.append(channel)\n",
    "\n",
    "        return sub_layers\n",
    "\n",
    "    def group_by_patterns(self, patterns):\n",
    "        sub_layers = []\n",
    "        cl = self.channels\n",
    "        for span in group_by_patterns(cl, patterns):\n",
    "            begin, end = span\n",
    "            sub_layer = Layer(name=layer.name)\n",
    "            sub_layer.channels = cl[begin:end]\n",
    "            sub_layers.append(sub_layer)\n",
    "        return sub_layers\n",
    "\n",
    "cl = [\"A\",\n",
    "\"B\",\n",
    "\"G\",\n",
    "\"R\",\n",
    "\"Z\",\n",
    "\"disparityL.x\",\n",
    "\"disparityL.y\",\n",
    "\"disparityR.x\",\n",
    "\"disparityR.y\",\n",
    "\"forward.left.u\",\n",
    "\"forward.left.v\",\n",
    "\"forward.right.u\",\n",
    "\"forward.right.v\",\n",
    "\"left.A\",\n",
    "\"left.B\",\n",
    "\"left.G\",\n",
    "\"left.R\",\n",
    "\"left.Z\",\n",
    "\"whitebarmask.left.mask\",\n",
    "\"whitebarmask.right.mask\"]\n",
    "\n",
    "lyr = Layer(name=\"\")\n",
    "lyr.channels = cl\n",
    "layers = lyr.group_by_delimiters()\n",
    "print(lyr)\n",
    "print(\"->\")\n",
    "print(\"layers: \")\n",
    "for layer in layers:\n",
    "    print(layer)"
   ]
  },
  {
   "cell_type": "code",
   "execution_count": 4,
   "metadata": {},
   "outputs": [
    {
     "name": "stdout",
     "output_type": "stream",
     "text": [
      "['red', 'green', 'blue', 'A', 'B', 'G', 'R', 'Z', 'u', 'v', 'w', 'u', 'v', 'x', 'y', 'k', 'B', 'G', 'R']\n",
      "Layer('whitebarmask.right', red, green, blue)\n",
      "Layer('whitebarmask.right', A, B, G, R)\n",
      "Layer('whitebarmask.right', Z)\n",
      "Layer('whitebarmask.right', u, v, w)\n",
      "Layer('whitebarmask.right', u, v)\n",
      "Layer('whitebarmask.right', x, y)\n",
      "Layer('whitebarmask.right', k)\n",
      "Layer('whitebarmask.right', B, G, R)\n"
     ]
    }
   ],
   "source": [
    "\n",
    "lyr = Layer(name=\"color\")\n",
    "lyr.channels = [\"red\", \"green\", \"blue\", \"A\", \"B\", \"G\", \"R\", \"Z\", \"u\", \"v\", \"w\", \"u\", \"v\", \"x\", \"y\", \"k\", \"B\", \"G\", \"R\"]\n",
    "def Layer_group_by_patterns(layer, patterns):\n",
    "    sub_layers = []\n",
    "    for span in group_by_patterns(layer.channels, patterns):\n",
    "        begin, end = span\n",
    "        sublayer = Layer(name=layer.name)\n",
    "        sublayer.channels = layer.channels[begin:end]\n",
    "        sub_layers.append(sublayer)\n",
    "    return sub_layers\n",
    "\n",
    "print(lyr.channels)\n",
    "\n",
    "for sublyr in lyr.group_by_patterns(patterns):\n",
    "    print(sublyr)"
   ]
  },
  {
   "cell_type": "code",
   "execution_count": null,
   "metadata": {},
   "outputs": [],
   "source": []
  }
 ],
 "metadata": {
  "interpreter": {
   "hash": "15d14e4ea4a3fd5fb558fe79b02559267cbbc4da955e7af16ae3986c2ecd25fd"
  },
  "kernelspec": {
   "display_name": "Python 3.10.2 64-bit",
   "language": "python",
   "name": "python3"
  },
  "language_info": {
   "codemirror_mode": {
    "name": "ipython",
    "version": 3
   },
   "file_extension": ".py",
   "mimetype": "text/x-python",
   "name": "python",
   "nbconvert_exporter": "python",
   "pygments_lexer": "ipython3",
   "version": "3.9.10"
  },
  "orig_nbformat": 4
 },
 "nbformat": 4,
 "nbformat_minor": 2
}
