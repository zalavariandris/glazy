{
 "cells": [
  {
   "cell_type": "code",
   "execution_count": 2,
   "metadata": {},
   "outputs": [],
   "source": [
    "cl = [\"A\",\n",
    "\"B\",\n",
    "\"G\",\n",
    "\"R\",\n",
    "\"Z\",\n",
    "\"disparityL.x\",\n",
    "\"disparityL.y\",\n",
    "\"disparityR.x\",\n",
    "\"disparityR.y\",\n",
    "\"forward.left.u\",\n",
    "\"forward.left.v\",\n",
    "\"forward.right.u\",\n",
    "\"forward.right.v\",\n",
    "\"left.A\",\n",
    "\"left.B\",\n",
    "\"left.G\"\n",
    "\"left.R\"\n",
    "\"left.Z\"\n",
    "\"whitebarmask.left.mask\"\n",
    "\"whitebarmask.right.mask\"]"
   ]
  },
  {
   "cell_type": "code",
   "execution_count": 9,
   "metadata": {},
   "outputs": [
    {
     "name": "stdout",
     "output_type": "stream",
     "text": [
      " ['A', 'B', 'G', 'R', 'Z']\n",
      " []\n",
      " []\n",
      " []\n",
      " []\n",
      " []\n",
      " []\n",
      " []\n",
      " []\n",
      " []\n",
      " []\n",
      " []\n"
     ]
    }
   ],
   "source": [
    "def parse_channel(name):\n",
    "    tags = name.split(\".\")\n",
    "    viewlayer = tags[0] if len(tags)>1 else \"\"\n",
    "    channel = tags[-1]\n",
    "    return viewlayer, channel\n",
    "\n",
    "class Layer:\n",
    "    def __init__(self, name):\n",
    "        self.name = \"\"\n",
    "        self.channels = []\n",
    "\n",
    "def group_layers(cl):\n",
    "    patterns = [\"ABGR\", \"BGR\", \"XYZ\", \"XY\", \"UVW\", \"UV\"]\n",
    "    layers = []\n",
    "    i=0\n",
    "    while i < len(cl):\n",
    "        channel = cl[i]\n",
    "        viewlayer, channel = parse_channel(channel)\n",
    "\n",
    "        if len(layers)==0:\n",
    "            layers.append(Layer(name=viewlayer))\n",
    "\n",
    "        if layers[-1].name == viewlayer:\n",
    "            layers[-1].channels.append(channel)\n",
    "        else:\n",
    "            layers.append(Layer(name=viewlayer))\n",
    "\n",
    "        i+=1\n",
    "\n",
    "    return layers\n",
    "\n",
    "layers = group_layers(cl)\n",
    "for layer in layers:\n",
    "    print(layer.name, layer.channels)"
   ]
  },
  {
   "cell_type": "code",
   "execution_count": null,
   "metadata": {},
   "outputs": [],
   "source": []
  }
 ],
 "metadata": {
  "interpreter": {
   "hash": "15d14e4ea4a3fd5fb558fe79b02559267cbbc4da955e7af16ae3986c2ecd25fd"
  },
  "kernelspec": {
   "display_name": "Python 3.10.2 64-bit",
   "language": "python",
   "name": "python3"
  },
  "language_info": {
   "codemirror_mode": {
    "name": "ipython",
    "version": 3
   },
   "file_extension": ".py",
   "mimetype": "text/x-python",
   "name": "python",
   "nbconvert_exporter": "python",
   "pygments_lexer": "ipython3",
   "version": "3.9.10"
  },
  "orig_nbformat": 4
 },
 "nbformat": 4,
 "nbformat_minor": 2
}
